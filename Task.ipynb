{
 "cells": [
  {
   "cell_type": "markdown",
   "id": "dd6e143f-4dae-4ecc-80b9-4ba146b882a4",
   "metadata": {},
   "source": [
    "# capitalize()\n"
   ]
  },
  {
   "cell_type": "code",
   "execution_count": 14,
   "id": "25fc909a-91c1-49e0-859e-dfc865aa8bf7",
   "metadata": {},
   "outputs": [
    {
     "name": "stdout",
     "output_type": "stream",
     "text": [
      "welcome to mumbai\n"
     ]
    }
   ],
   "source": [
    "str = 'welcome to mumbai'\n",
    "\n",
    "print(str)"
   ]
  },
  {
   "cell_type": "code",
   "execution_count": 18,
   "id": "6671dfa9-60f7-4117-b3e0-d9fbbad8205f",
   "metadata": {},
   "outputs": [
    {
     "name": "stdout",
     "output_type": "stream",
     "text": [
      "Welcome to mumbai\n"
     ]
    }
   ],
   "source": [
    "print(f'{str}'.capitalize())"
   ]
  },
  {
   "cell_type": "markdown",
   "id": "40128593-3730-40a2-a0ca-05b36857b2f8",
   "metadata": {},
   "source": [
    "# casefold()\n",
    "\n",
    "\n"
   ]
  },
  {
   "cell_type": "code",
   "execution_count": 21,
   "id": "372176db-3b43-49ae-88fc-668ea2848391",
   "metadata": {},
   "outputs": [
    {
     "name": "stdout",
     "output_type": "stream",
     "text": [
      "Hello , My name is danny\n"
     ]
    }
   ],
   "source": [
    "str = 'Hello , My name is danny'\n",
    "print(str)"
   ]
  },
  {
   "cell_type": "code",
   "execution_count": 23,
   "id": "5bd5fe5d-bcec-4997-b76b-42cb54353864",
   "metadata": {},
   "outputs": [
    {
     "name": "stdout",
     "output_type": "stream",
     "text": [
      "hello , my name is danny\n"
     ]
    }
   ],
   "source": [
    "print(f'{str}'.casefold())"
   ]
  },
  {
   "cell_type": "markdown",
   "id": "e6a8b74e-c45d-4da5-84fc-f269067e0988",
   "metadata": {},
   "source": [
    "# center()"
   ]
  },
  {
   "cell_type": "code",
   "execution_count": 44,
   "id": "37aaed9a-f5fc-46ab-9964-c346dd5f30d2",
   "metadata": {},
   "outputs": [
    {
     "name": "stdout",
     "output_type": "stream",
     "text": [
      "sizume\n"
     ]
    }
   ],
   "source": [
    "str = 'sizume'\n",
    "print(str)"
   ]
  },
  {
   "cell_type": "code",
   "execution_count": 54,
   "id": "f541ccaa-2b66-4258-8f38-a76589d406be",
   "metadata": {},
   "outputs": [
    {
     "name": "stdout",
     "output_type": "stream",
     "text": [
      "  sizume  \n"
     ]
    }
   ],
   "source": [
    "print(f'{str}'.center(10))"
   ]
  },
  {
   "cell_type": "markdown",
   "id": "90dbf06a-e94a-4b75-8125-dc6a44dc1665",
   "metadata": {},
   "source": [
    "# count()"
   ]
  },
  {
   "cell_type": "code",
   "execution_count": 56,
   "id": "1c9884ea-aca6-499f-8e5a-01a932773634",
   "metadata": {},
   "outputs": [
    {
     "name": "stdout",
     "output_type": "stream",
     "text": [
      "I like to play badminton, badminton is my fav game\n"
     ]
    }
   ],
   "source": [
    "str = 'I like to play badminton, badminton is my fav game'\n",
    "print(str)"
   ]
  },
  {
   "cell_type": "code",
   "execution_count": 58,
   "id": "c1b6b502-c67d-459c-a806-cb064989c7ab",
   "metadata": {},
   "outputs": [
    {
     "name": "stdout",
     "output_type": "stream",
     "text": [
      "2\n"
     ]
    }
   ],
   "source": [
    "print(f'{str}'.count('badminton'))"
   ]
  },
  {
   "cell_type": "markdown",
   "id": "98d38304-0e3f-496f-a6e0-f24fec45f960",
   "metadata": {},
   "source": [
    "# encode()"
   ]
  },
  {
   "cell_type": "code",
   "execution_count": 61,
   "id": "ec935fc0-8e85-43c2-bd3e-9c44edb0f53f",
   "metadata": {},
   "outputs": [
    {
     "name": "stdout",
     "output_type": "stream",
     "text": [
      "I m a foodie\n",
      "b'I m a foodie'\n"
     ]
    }
   ],
   "source": [
    "str = 'I m a foodie'\n",
    "print(str)\n",
    "\n",
    "print(f'{str}'.encode())"
   ]
  },
  {
   "cell_type": "markdown",
   "id": "a158667b-3be3-40f6-815c-d0ad56c469bd",
   "metadata": {},
   "source": [
    "# endswith()"
   ]
  },
  {
   "cell_type": "code",
   "execution_count": 491,
   "id": "7a29399d-65aa-4413-8231-5364baf6eae0",
   "metadata": {},
   "outputs": [
    {
     "name": "stdout",
     "output_type": "stream",
     "text": [
      "My name is swati sarode.\n"
     ]
    }
   ],
   "source": [
    "str = 'My name is swati sarode.'\n",
    "print(str)\n",
    "\n"
   ]
  },
  {
   "cell_type": "code",
   "execution_count": 489,
   "id": "0c0e5ba8-0289-4d7d-8d4a-efc31130bdd7",
   "metadata": {},
   "outputs": [
    {
     "name": "stdout",
     "output_type": "stream",
     "text": [
      "True\n"
     ]
    }
   ],
   "source": [
    "print(f'{str}'.endswith(\".\"))"
   ]
  },
  {
   "cell_type": "markdown",
   "id": "fdf951b8-5dcb-4121-8d52-866c60f2f6e9",
   "metadata": {},
   "source": [
    "# expandtabs() "
   ]
  },
  {
   "cell_type": "code",
   "execution_count": 114,
   "id": "b73875d4-9918-4b19-9f76-1bbd78b1102b",
   "metadata": {},
   "outputs": [
    {
     "name": "stdout",
     "output_type": "stream",
     "text": [
      "S\tw\ta\tt\ti\n"
     ]
    }
   ],
   "source": [
    "str = \"S\\tw\\ta\\tt\\ti\"\n",
    "print(str)"
   ]
  },
  {
   "cell_type": "code",
   "execution_count": 118,
   "id": "7e068af7-e562-44f7-9b25-edd22484c913",
   "metadata": {},
   "outputs": [
    {
     "name": "stdout",
     "output_type": "stream",
     "text": [
      "S w a t i\n"
     ]
    }
   ],
   "source": [
    "print(f'{str}'.expandtabs(2))"
   ]
  },
  {
   "cell_type": "markdown",
   "id": "72062fa7-ec0f-410e-8e93-9acb635771ac",
   "metadata": {},
   "source": [
    "# find()"
   ]
  },
  {
   "cell_type": "code",
   "execution_count": 128,
   "id": "a5fd4a94-9d2d-4574-a637-d7f48c50d317",
   "metadata": {},
   "outputs": [
    {
     "name": "stdout",
     "output_type": "stream",
     "text": [
      "Arc is an institute.\n"
     ]
    }
   ],
   "source": [
    "str = \"Arc is an institute.\"\n",
    "print(str)\n"
   ]
  },
  {
   "cell_type": "code",
   "execution_count": 132,
   "id": "4aa33b8a-06bc-4b30-80d1-77c79ef6d815",
   "metadata": {},
   "outputs": [
    {
     "name": "stdout",
     "output_type": "stream",
     "text": [
      "7\n"
     ]
    }
   ],
   "source": [
    "print(f'{str}'.find(\"an\"))"
   ]
  },
  {
   "cell_type": "markdown",
   "id": "210f9ccc-1c69-4a8b-97ec-c00ebe45dc18",
   "metadata": {},
   "source": [
    "# format()"
   ]
  },
  {
   "cell_type": "code",
   "execution_count": 137,
   "id": "c885648b-7cf7-4c54-a588-83e90671f341",
   "metadata": {},
   "outputs": [
    {
     "name": "stdout",
     "output_type": "stream",
     "text": [
      " I have {an:.2f} rupess\n"
     ]
    }
   ],
   "source": [
    "str = \" I have {an:.2f} rupess\"\n",
    "print(str)\n",
    "\n"
   ]
  },
  {
   "cell_type": "code",
   "execution_count": 139,
   "id": "7f75057e-9f4b-461a-8444-d527f40b1576",
   "metadata": {},
   "outputs": [
    {
     "name": "stdout",
     "output_type": "stream",
     "text": [
      " I have 4.00 rupess\n"
     ]
    }
   ],
   "source": [
    "print(f'{str}'.format(an = 4 ))"
   ]
  },
  {
   "cell_type": "markdown",
   "id": "188d38d8-633b-4339-88a3-c6c660d88055",
   "metadata": {},
   "source": [
    "# format_map()\n"
   ]
  },
  {
   "cell_type": "code",
   "execution_count": null,
   "id": "ec194ab5-cb14-4fae-aacf-93d60e198200",
   "metadata": {},
   "outputs": [],
   "source": [
    "str = "
   ]
  },
  {
   "cell_type": "markdown",
   "id": "65876c79-afb7-470c-96a7-4e8c31bb142f",
   "metadata": {},
   "source": [
    "# index()"
   ]
  },
  {
   "cell_type": "code",
   "execution_count": 143,
   "id": "e1a682ef-bbfd-45f7-ba73-ac15d44bcc7a",
   "metadata": {},
   "outputs": [
    {
     "name": "stdout",
     "output_type": "stream",
     "text": [
      "Hello, welcome to nagpur\n"
     ]
    }
   ],
   "source": [
    "str = \"Hello, welcome to nagpur\"\n",
    "print(str)\n"
   ]
  },
  {
   "cell_type": "code",
   "execution_count": 145,
   "id": "fc0ae334-4107-41af-b856-ef06210fcd05",
   "metadata": {},
   "outputs": [
    {
     "name": "stdout",
     "output_type": "stream",
     "text": [
      "7\n"
     ]
    }
   ],
   "source": [
    "print(f'{str}'.index(\"welcome\"))"
   ]
  },
  {
   "cell_type": "markdown",
   "id": "4bb0d451-038d-4d50-b896-f1c2627f1704",
   "metadata": {},
   "source": [
    "# isalnum()"
   ]
  },
  {
   "cell_type": "code",
   "execution_count": 148,
   "id": "6295a3b5-671d-470a-bc8f-644528e576bd",
   "metadata": {},
   "outputs": [
    {
     "name": "stdout",
     "output_type": "stream",
     "text": [
      " abc 123\n"
     ]
    }
   ],
   "source": [
    "str = \" abc 123\"\n",
    "print(str)"
   ]
  },
  {
   "cell_type": "code",
   "execution_count": 150,
   "id": "97772dc7-f846-4d57-ac62-c9b5f6f30dab",
   "metadata": {},
   "outputs": [
    {
     "name": "stdout",
     "output_type": "stream",
     "text": [
      "False\n"
     ]
    }
   ],
   "source": [
    "print(f'{str}'.isalnum())"
   ]
  },
  {
   "cell_type": "markdown",
   "id": "ac87b1b8-e705-4445-ad71-dec2da3ea65d",
   "metadata": {},
   "source": [
    "# isalpha()"
   ]
  },
  {
   "cell_type": "code",
   "execution_count": 171,
   "id": "da5387d3-924c-4405-bf48-8b67576ed8ae",
   "metadata": {},
   "outputs": [
    {
     "name": "stdout",
     "output_type": "stream",
     "text": [
      "Infosys\n"
     ]
    }
   ],
   "source": [
    "str = \"Infosys\"\n",
    "print(str)"
   ]
  },
  {
   "cell_type": "code",
   "execution_count": 173,
   "id": "e6039a03-56db-456d-9e0d-31b0eeb03131",
   "metadata": {},
   "outputs": [
    {
     "name": "stdout",
     "output_type": "stream",
     "text": [
      "True\n"
     ]
    }
   ],
   "source": [
    "print(f'{str}'.isalpha())"
   ]
  },
  {
   "cell_type": "markdown",
   "id": "06d1086f-d2bf-41fe-8988-e4c476f5f434",
   "metadata": {},
   "source": [
    "# isascii()"
   ]
  },
  {
   "cell_type": "code",
   "execution_count": 307,
   "id": "4f518361-489f-4bfa-9cea-727e6cd9da02",
   "metadata": {},
   "outputs": [
    {
     "name": "stdout",
     "output_type": "stream",
     "text": [
      "Price2000\n",
      "True\n"
     ]
    }
   ],
   "source": [
    "str = 'Price2000'\n",
    "print(str)\n",
    "\n",
    "print(f'{str}'.isascii())"
   ]
  },
  {
   "cell_type": "markdown",
   "id": "f6933fbd-74cf-4318-a993-7634f84d36ae",
   "metadata": {},
   "source": [
    "# isdecimal()"
   ]
  },
  {
   "cell_type": "code",
   "execution_count": 179,
   "id": "637ec6d0-b8a3-46b3-84c6-d51241499850",
   "metadata": {},
   "outputs": [
    {
     "name": "stdout",
     "output_type": "stream",
     "text": [
      "100\n",
      "True\n"
     ]
    }
   ],
   "source": [
    "str = \"100\"\n",
    "print(str)\n",
    "\n",
    "print(f'{str}'.isdecimal())"
   ]
  },
  {
   "cell_type": "markdown",
   "id": "0509a9c6-172f-4800-b4ed-daaa3b031099",
   "metadata": {},
   "source": [
    "# isdigit()"
   ]
  },
  {
   "cell_type": "code",
   "execution_count": 192,
   "id": "dd9151b1-0786-4dc4-94eb-3196bfc9cb06",
   "metadata": {},
   "outputs": [
    {
     "name": "stdout",
     "output_type": "stream",
     "text": [
      "Dell 202\n",
      "20202\n"
     ]
    }
   ],
   "source": [
    "str = \"Dell 202\"\n",
    "print(str)\n",
    "\n",
    "str1 = \"20202\"\n",
    "print(str1)"
   ]
  },
  {
   "cell_type": "code",
   "execution_count": 184,
   "id": "f9d130f8-a115-48cb-abc0-9e377fa20b3f",
   "metadata": {},
   "outputs": [
    {
     "name": "stdout",
     "output_type": "stream",
     "text": [
      "False\n"
     ]
    }
   ],
   "source": [
    "print(f'{str}'.isdigit())"
   ]
  },
  {
   "cell_type": "code",
   "execution_count": 194,
   "id": "830aa2c5-8283-43ac-a57d-d65e5a2ef01e",
   "metadata": {},
   "outputs": [
    {
     "name": "stdout",
     "output_type": "stream",
     "text": [
      "True\n"
     ]
    }
   ],
   "source": [
    "print(f'{str1}'.isdigit())"
   ]
  },
  {
   "cell_type": "markdown",
   "id": "18365f41-2098-4a13-844d-6547b8a3e70e",
   "metadata": {},
   "source": [
    "# isidentifier()"
   ]
  },
  {
   "cell_type": "code",
   "execution_count": 197,
   "id": "a67ac66b-da8d-493d-8d86-608a177893d6",
   "metadata": {},
   "outputs": [
    {
     "name": "stdout",
     "output_type": "stream",
     "text": [
      "coding_1001\n",
      "True\n"
     ]
    }
   ],
   "source": [
    "str = \"coding_1001\"\n",
    "print(str)\n",
    "\n",
    "print(f'{str}'.isidentifier())"
   ]
  },
  {
   "cell_type": "code",
   "execution_count": 199,
   "id": "b859cff0-abfd-4355-8a58-f9e279c3fc71",
   "metadata": {},
   "outputs": [
    {
     "name": "stdout",
     "output_type": "stream",
     "text": [
      " Created by me\n",
      "False\n"
     ]
    }
   ],
   "source": [
    "str1 = \" Created by me\"\n",
    "print(str1)\n",
    "\n",
    "print(f'{str1}'.isidentifier())"
   ]
  },
  {
   "cell_type": "markdown",
   "id": "88745e0b-597b-4093-a9d0-fef2daf8860f",
   "metadata": {},
   "source": [
    "# islower()"
   ]
  },
  {
   "cell_type": "code",
   "execution_count": 202,
   "id": "0c0a9bc6-2d7f-4d78-90e9-ac8b160d2edb",
   "metadata": {},
   "outputs": [
    {
     "name": "stdout",
     "output_type": "stream",
     "text": [
      " what is your hobby\n",
      "True\n"
     ]
    }
   ],
   "source": [
    "str = \" what is your hobby\"\n",
    "print(str)\n",
    "\n",
    "print(f'{str}'.islower())"
   ]
  },
  {
   "cell_type": "code",
   "execution_count": 204,
   "id": "1d937c14-9f2a-4daf-b9fd-272a1987eb25",
   "metadata": {},
   "outputs": [
    {
     "name": "stdout",
     "output_type": "stream",
     "text": [
      " What is your Highest Qualification\n",
      "False\n"
     ]
    }
   ],
   "source": [
    "str1 = \" What is your Highest Qualification\"\n",
    "print(str1)\n",
    "\n",
    "print(f'{str1}'.islower())"
   ]
  },
  {
   "cell_type": "markdown",
   "id": "3dfdebf5-8c85-49e5-9933-60bc5c501002",
   "metadata": {},
   "source": [
    "# isnumeric()"
   ]
  },
  {
   "cell_type": "code",
   "execution_count": 207,
   "id": "921c0eec-2100-40ec-b4b2-44dd27972ec2",
   "metadata": {},
   "outputs": [
    {
     "name": "stdout",
     "output_type": "stream",
     "text": [
      "10011997\n",
      "True\n"
     ]
    }
   ],
   "source": [
    "str = \"10011997\"\n",
    "print(str)\n",
    "\n",
    "print(f'{str}'.isnumeric())"
   ]
  },
  {
   "cell_type": "markdown",
   "id": "2833261c-0cde-4e69-acbe-b44bacc6fdd6",
   "metadata": {},
   "source": [
    "# isprintable() "
   ]
  },
  {
   "cell_type": "code",
   "execution_count": 214,
   "id": "d53de105-eb46-4797-8a30-0e74ccfd8c7a",
   "metadata": {},
   "outputs": [
    {
     "name": "stdout",
     "output_type": "stream",
     "text": [
      "\n",
      "True\n"
     ]
    }
   ],
   "source": [
    "str = \" My name is swati\"\n",
    "print()\n",
    "\n",
    "print(f'{str}'.isprintable())"
   ]
  },
  {
   "cell_type": "code",
   "execution_count": 222,
   "id": "422b1ada-8638-4d39-9ee7-623dc4f4eefc",
   "metadata": {},
   "outputs": [
    {
     "name": "stdout",
     "output_type": "stream",
     "text": [
      " abc13 \n",
      "%\n",
      "False\n"
     ]
    }
   ],
   "source": [
    "str1 = \" abc13 \\n%\"\n",
    "print(str1)\n",
    "\n",
    "print(f'{str1}'.isprintable())\n"
   ]
  },
  {
   "cell_type": "markdown",
   "id": "35cb5001-bfbb-4c9c-9b6e-016d21180cd3",
   "metadata": {},
   "source": [
    "# isspace()"
   ]
  },
  {
   "cell_type": "code",
   "execution_count": 479,
   "id": "ce67ca7c-0b34-48ae-9598-3965c5974096",
   "metadata": {},
   "outputs": [
    {
     "name": "stdout",
     "output_type": "stream",
     "text": [
      "    \n"
     ]
    }
   ],
   "source": [
    "str = \"    \"\n",
    "print(str)\n"
   ]
  },
  {
   "cell_type": "code",
   "execution_count": 481,
   "id": "d4b6c04d-9c7c-4bbe-9f63-1c9476dd8f9c",
   "metadata": {},
   "outputs": [
    {
     "name": "stdout",
     "output_type": "stream",
     "text": [
      "True\n"
     ]
    }
   ],
   "source": [
    "print(f'{str}'.isspace())"
   ]
  },
  {
   "cell_type": "code",
   "execution_count": 483,
   "id": "1fdb3693-e698-49d7-a552-0e7815bdc31d",
   "metadata": {},
   "outputs": [
    {
     "name": "stdout",
     "output_type": "stream",
     "text": [
      "    \n",
      "True\n"
     ]
    }
   ],
   "source": [
    "str1 = '   S   '\n",
    "print(str)\n",
    "\n",
    "print(f'{str}'.isspace())"
   ]
  },
  {
   "cell_type": "markdown",
   "id": "9e8918a7-5383-4b40-a730-8fb20d9e2946",
   "metadata": {},
   "source": [
    "# istitle()"
   ]
  },
  {
   "cell_type": "code",
   "execution_count": 240,
   "id": "e7a64f9f-bfae-4089-a9d2-ee8cd5887c48",
   "metadata": {},
   "outputs": [
    {
     "name": "stdout",
     "output_type": "stream",
     "text": [
      " Congratulations, You Are Selected\n",
      "True\n"
     ]
    }
   ],
   "source": [
    "str = \" Congratulations, You Are Selected\"\n",
    "print(str)\n",
    "\n",
    "print(f'{str}'.istitle())"
   ]
  },
  {
   "cell_type": "markdown",
   "id": "75ef26c5-6e92-4a1f-bc6d-2f7cd23350c0",
   "metadata": {},
   "source": [
    "# isupper()"
   ]
  },
  {
   "cell_type": "code",
   "execution_count": 243,
   "id": "0d01d36c-ed22-4228-b181-2844709c89e9",
   "metadata": {},
   "outputs": [
    {
     "name": "stdout",
     "output_type": "stream",
     "text": [
      " IT IS WHAT IT IS \n",
      "True\n"
     ]
    }
   ],
   "source": [
    "str = \" IT IS WHAT IT IS \"\n",
    "print(str)\n",
    "\n",
    "print(f'{str}'.isupper())"
   ]
  },
  {
   "cell_type": "markdown",
   "id": "9f28bb3b-2a1b-4b43-b329-81e0545b89f2",
   "metadata": {},
   "source": [
    "# join()"
   ]
  },
  {
   "cell_type": "code",
   "execution_count": 297,
   "id": "bb69ace8-c9fa-490e-bdca-93c4baea6360",
   "metadata": {},
   "outputs": [
    {
     "name": "stdout",
     "output_type": "stream",
     "text": [
      "('Danny', 'Sandy', 'Candy')\n"
     ]
    }
   ],
   "source": [
    "str = ('Danny','Sandy', 'Candy')\n",
    "print(str)\n",
    "\n"
   ]
  },
  {
   "cell_type": "code",
   "execution_count": 295,
   "id": "07feaf32-64de-497f-a811-7c8cfcf8cea0",
   "metadata": {},
   "outputs": [
    {
     "name": "stdout",
     "output_type": "stream",
     "text": [
      "('Danny', 'Sandy', 'Candy')\n"
     ]
    }
   ],
   "source": [
    "print(f'{str}')"
   ]
  },
  {
   "cell_type": "markdown",
   "id": "0f718a91-fb46-4d66-982f-161337bb42d8",
   "metadata": {},
   "source": [
    "# ljust()"
   ]
  },
  {
   "cell_type": "code",
   "execution_count": 433,
   "id": "616e4e85-8077-4465-b1f5-5dcae0b18b51",
   "metadata": {},
   "outputs": [
    {
     "name": "stdout",
     "output_type": "stream",
     "text": [
      "Mango\n"
     ]
    }
   ],
   "source": [
    "txt = 'Mango'\n",
    "print(txt)"
   ]
  },
  {
   "cell_type": "code",
   "execution_count": 441,
   "id": "dcd678cb-97e0-4782-9fc7-ab8f08995a63",
   "metadata": {},
   "outputs": [
    {
     "name": "stdout",
     "output_type": "stream",
     "text": [
      "Mango is my fav fruit\n"
     ]
    }
   ],
   "source": [
    "str = txt.ljust(5)\n",
    "\n",
    "print(str,'is my fav fruit')"
   ]
  },
  {
   "cell_type": "markdown",
   "id": "21317aac-4c97-44ff-a3f3-40d8b5a2a9e4",
   "metadata": {},
   "source": [
    "# lower()"
   ]
  },
  {
   "cell_type": "code",
   "execution_count": 260,
   "id": "3c4c70fb-51ac-4ebe-99b0-7ad149ee05d1",
   "metadata": {},
   "outputs": [
    {
     "name": "stdout",
     "output_type": "stream",
     "text": [
      " Convert To LoWER CaSe\n",
      " convert to lower case\n"
     ]
    }
   ],
   "source": [
    "str =\" Convert To LoWER CaSe\"\n",
    "print(str)\n",
    "\n",
    "print(f'{str}'.lower())"
   ]
  },
  {
   "cell_type": "markdown",
   "id": "ad3d3493-2bab-4eaa-b777-c2c17eed60f8",
   "metadata": {},
   "source": [
    "# lstrip()"
   ]
  },
  {
   "cell_type": "code",
   "execution_count": 445,
   "id": "8317ca30-6776-4b90-bedb-79d714f1a488",
   "metadata": {},
   "outputs": [
    {
     "name": "stdout",
     "output_type": "stream",
     "text": [
      "but\n"
     ]
    }
   ],
   "source": [
    "str = 'but'\n",
    "print(str)\n"
   ]
  },
  {
   "cell_type": "code",
   "execution_count": 449,
   "id": "f84ac562-30c2-4a64-8d0a-10db960ca27b",
   "metadata": {},
   "outputs": [
    {
     "name": "stdout",
     "output_type": "stream",
     "text": [
      "same same  but different\n"
     ]
    }
   ],
   "source": [
    "str1 = str.lstrip()\n",
    "\n",
    "print('same same ', str,'different')"
   ]
  },
  {
   "cell_type": "markdown",
   "id": "ebe0ea9c-294d-488a-bac8-60a9fdf05b3c",
   "metadata": {},
   "source": [
    "# maketrans()"
   ]
  },
  {
   "cell_type": "code",
   "execution_count": 270,
   "id": "286b9c08-6691-411c-ba5a-3d3976134f15",
   "metadata": {},
   "outputs": [
    {
     "name": "stdout",
     "output_type": "stream",
     "text": [
      "Hey Sanny!\n"
     ]
    }
   ],
   "source": [
    "str = \"Hey Danny!\"\n",
    "mytable = str.maketrans(\"D\",\"S\")\n",
    "\n",
    "print(str.translate(mytable))"
   ]
  },
  {
   "cell_type": "markdown",
   "id": "9c8e2cfd-65c9-4cbf-a89e-4462a00448ba",
   "metadata": {},
   "source": [
    " # partition()"
   ]
  },
  {
   "cell_type": "code",
   "execution_count": 275,
   "id": "5dc8b31b-2031-467b-823a-b73f3c1f55a4",
   "metadata": {},
   "outputs": [
    {
     "name": "stdout",
     "output_type": "stream",
     "text": [
      " gold is heavy\n",
      "(' gold ', 'is', ' heavy')\n"
     ]
    }
   ],
   "source": [
    "str = \" gold is heavy\"\n",
    "print(str)\n",
    "\n",
    "print(f'{str}'.partition('is'))"
   ]
  },
  {
   "cell_type": "markdown",
   "id": "1e7275df-2c24-43bf-b4a9-c4d11af0e0b3",
   "metadata": {},
   "source": [
    "# replace()"
   ]
  },
  {
   "cell_type": "code",
   "execution_count": 280,
   "id": "4b3a83db-e1a4-4654-80e7-d7117dcba2e4",
   "metadata": {},
   "outputs": [
    {
     "name": "stdout",
     "output_type": "stream",
     "text": [
      " Apple is a fruit\n"
     ]
    }
   ],
   "source": [
    "str = \" Apple is a fruit\"\n",
    "print(str)\n",
    "\n"
   ]
  },
  {
   "cell_type": "code",
   "execution_count": 282,
   "id": "2311d6a6-ea19-44ab-b74a-7e5466e634a4",
   "metadata": {},
   "outputs": [
    {
     "name": "stdout",
     "output_type": "stream",
     "text": [
      " Mango is a fruit\n"
     ]
    }
   ],
   "source": [
    "print(f'{str}'.replace('Apple','Mango'))"
   ]
  },
  {
   "cell_type": "markdown",
   "id": "e42a8e37-974d-4b5e-8448-d098e02bd83a",
   "metadata": {},
   "source": [
    "# rfind()"
   ]
  },
  {
   "cell_type": "code",
   "execution_count": 309,
   "id": "2bbddcb7-4684-457e-9207-60a7b353d4b0",
   "metadata": {},
   "outputs": [
    {
     "name": "stdout",
     "output_type": "stream",
     "text": [
      "Hello world , My world\n"
     ]
    }
   ],
   "source": [
    "str = \"Hello world , My world\"\n",
    "print(str)"
   ]
  },
  {
   "cell_type": "code",
   "execution_count": 313,
   "id": "26e522d5-aa4d-4d21-99ab-0ae1f246b9af",
   "metadata": {},
   "outputs": [
    {
     "name": "stdout",
     "output_type": "stream",
     "text": [
      "17\n"
     ]
    }
   ],
   "source": [
    "print(f'{str}'.rfind(\"world\"))"
   ]
  },
  {
   "cell_type": "markdown",
   "id": "faae943a-f03f-49ca-96b2-f10fc36c80d0",
   "metadata": {},
   "source": [
    "# rindex()"
   ]
  },
  {
   "cell_type": "code",
   "execution_count": 316,
   "id": "f849f243-95c7-495b-8088-981ff2bed5bc",
   "metadata": {},
   "outputs": [
    {
     "name": "stdout",
     "output_type": "stream",
     "text": [
      "Hello, welcome to my world.\n"
     ]
    }
   ],
   "source": [
    "str = \"Hello, welcome to my world.\"\n",
    "print(str)"
   ]
  },
  {
   "cell_type": "code",
   "execution_count": 320,
   "id": "ca260245-66a7-48b8-99b4-a97c2538cc45",
   "metadata": {},
   "outputs": [
    {
     "name": "stdout",
     "output_type": "stream",
     "text": [
      "13\n"
     ]
    }
   ],
   "source": [
    "print(f'{str}'.rindex(\"e\"))"
   ]
  },
  {
   "cell_type": "markdown",
   "id": "5517d9b6-d33c-4258-a2e4-7970fd3622e3",
   "metadata": {},
   "source": [
    "# rjust()"
   ]
  },
  {
   "cell_type": "code",
   "execution_count": 465,
   "id": "c78202f2-aa07-47d6-bbc5-ad963e5b1c80",
   "metadata": {},
   "outputs": [
    {
     "name": "stdout",
     "output_type": "stream",
     "text": [
      "Nagpur\n"
     ]
    }
   ],
   "source": [
    "txt = 'Nagpur'\n",
    "print(txt)"
   ]
  },
  {
   "cell_type": "code",
   "execution_count": 467,
   "id": "66c02805-3548-4c52-bb3b-d36e71634b56",
   "metadata": {},
   "outputs": [
    {
     "name": "stdout",
     "output_type": "stream",
     "text": [
      "    Nagpur is best city\n"
     ]
    }
   ],
   "source": [
    "str = txt.rjust(10)\n",
    "\n",
    "print(str, 'is best city')\n",
    "\n"
   ]
  },
  {
   "cell_type": "markdown",
   "id": "209b34f2-9c56-41c4-bab3-00d7e68f6e10",
   "metadata": {},
   "source": [
    "# rpartition()"
   ]
  },
  {
   "cell_type": "code",
   "execution_count": 338,
   "id": "2ce1970f-ee08-4bf8-bf1e-c254adaa36a2",
   "metadata": {},
   "outputs": [
    {
     "name": "stdout",
     "output_type": "stream",
     "text": [
      "Ram is not eating but Mohan is eating\n"
     ]
    }
   ],
   "source": [
    "str = \"Ram is not eating but Mohan is eating\"\n",
    "print(str)\n",
    "\n"
   ]
  },
  {
   "cell_type": "code",
   "execution_count": 340,
   "id": "bfbb1f30-fead-42dd-be38-48203ede08fe",
   "metadata": {},
   "outputs": [
    {
     "name": "stdout",
     "output_type": "stream",
     "text": [
      "('Ram ', 'is', ' not eating but Mohan is eating')\n"
     ]
    }
   ],
   "source": [
    "print(f'{str}'.partition('is'))"
   ]
  },
  {
   "cell_type": "markdown",
   "id": "c1e4aa01-d035-49d5-a0c4-aee17e8314ff",
   "metadata": {},
   "source": [
    "# rsplit()"
   ]
  },
  {
   "cell_type": "code",
   "execution_count": 343,
   "id": "ac54dd24-cb6b-41fb-b2e3-3576f0c132c2",
   "metadata": {},
   "outputs": [
    {
     "name": "stdout",
     "output_type": "stream",
     "text": [
      " Cat, Rat ,Mat \n"
     ]
    }
   ],
   "source": [
    "str = \" Cat, Rat ,Mat \"\n",
    "print(str)"
   ]
  },
  {
   "cell_type": "code",
   "execution_count": 345,
   "id": "302615a6-3630-4a67-84ae-0e05edfee7e1",
   "metadata": {},
   "outputs": [
    {
     "name": "stdout",
     "output_type": "stream",
     "text": [
      "[' Cat', ' Rat ', 'Mat ']\n"
     ]
    }
   ],
   "source": [
    "print(f'{str}'.rsplit(\",\"))"
   ]
  },
  {
   "cell_type": "markdown",
   "id": "8007dc80-2c0b-4a4e-b129-996e9b64e66d",
   "metadata": {},
   "source": [
    "# rstrip()"
   ]
  },
  {
   "cell_type": "code",
   "execution_count": 348,
   "id": "3e6f4d17-554e-475f-a7ba-f8b9c3d49708",
   "metadata": {},
   "outputs": [
    {
     "name": "stdout",
     "output_type": "stream",
     "text": [
      " swati is my name\n"
     ]
    }
   ],
   "source": [
    "str = \" swati,,,, is my name\"\n",
    "print(str)  "
   ]
  },
  {
   "cell_type": "code",
   "execution_count": 362,
   "id": "4c369517-dc46-4d39-8ab3-685a9ee1963a",
   "metadata": {},
   "outputs": [
    {
     "name": "stdout",
     "output_type": "stream",
     "text": [
      " swat\n"
     ]
    }
   ],
   "source": [
    "print(f'{str}'.rstrip(',.is my name'))   "
   ]
  },
  {
   "cell_type": "markdown",
   "id": "ba514147-0017-4470-8f74-5f9199d07ba6",
   "metadata": {},
   "source": [
    "# split()"
   ]
  },
  {
   "cell_type": "code",
   "execution_count": 365,
   "id": "a65a02d3-afca-4ee1-8e2d-30feea7bd90e",
   "metadata": {},
   "outputs": [
    {
     "name": "stdout",
     "output_type": "stream",
     "text": [
      " The end is the beginning\n"
     ]
    }
   ],
   "source": [
    "str = \" The end is the beginning\"\n",
    "print(str)"
   ]
  },
  {
   "cell_type": "code",
   "execution_count": 367,
   "id": "48437229-8387-434e-a259-2b1da3908b99",
   "metadata": {},
   "outputs": [
    {
     "name": "stdout",
     "output_type": "stream",
     "text": [
      "['The', 'end', 'is', 'the', 'beginning']\n"
     ]
    }
   ],
   "source": [
    "print(f'{str}'.split())"
   ]
  },
  {
   "cell_type": "markdown",
   "id": "75ee655a-2c8c-466b-a9f9-c6f8809d0f6d",
   "metadata": {},
   "source": [
    "# splitlines()\n"
   ]
  },
  {
   "cell_type": "code",
   "execution_count": 388,
   "id": "139fbcc9-ed2e-4514-81fd-35011199cfc0",
   "metadata": {},
   "outputs": [
    {
     "name": "stdout",
     "output_type": "stream",
     "text": [
      " My name is Sunny\n",
      "I am from Pune\n"
     ]
    }
   ],
   "source": [
    "str = \" My name is Sunny\\nI am from Pune\"\n",
    "print(str)"
   ]
  },
  {
   "cell_type": "code",
   "execution_count": 390,
   "id": "dc9e8429-5d32-4254-91ff-b9351466bab5",
   "metadata": {},
   "outputs": [
    {
     "name": "stdout",
     "output_type": "stream",
     "text": [
      "[' My name is Sunny', 'I am from Pune']\n"
     ]
    }
   ],
   "source": [
    "print(f'{str}'.splitlines())"
   ]
  },
  {
   "cell_type": "markdown",
   "id": "434f39d8-1456-4c0b-a35d-7633805e5c4d",
   "metadata": {},
   "source": [
    "# startswith()"
   ]
  },
  {
   "cell_type": "code",
   "execution_count": 393,
   "id": "a9420ae1-0731-4b0d-928e-5a381bd14e63",
   "metadata": {},
   "outputs": [
    {
     "name": "stdout",
     "output_type": "stream",
     "text": [
      "Softronix is an institute\n"
     ]
    }
   ],
   "source": [
    "str = \"Softronix is an institute\"\n",
    "print(str)"
   ]
  },
  {
   "cell_type": "markdown",
   "id": "89d3cfb6-75ff-4164-b589-b1f2f98a6f1a",
   "metadata": {},
   "source": [
    "print(f'{str}'.startswith('Softronix'))"
   ]
  },
  {
   "cell_type": "markdown",
   "id": "0adc9ef8-222e-4a8c-ab3f-9cc8598de73d",
   "metadata": {},
   "source": [
    "# strip()"
   ]
  },
  {
   "cell_type": "code",
   "execution_count": 473,
   "id": "3314d2bd-39e9-4e6e-8d34-179f0206e821",
   "metadata": {},
   "outputs": [
    {
     "name": "stdout",
     "output_type": "stream",
     "text": [
      "is\n"
     ]
    }
   ],
   "source": [
    "str = 'is'\n",
    "print(str)"
   ]
  },
  {
   "cell_type": "code",
   "execution_count": 475,
   "id": "7d3bf985-2f63-4f6b-8212-1591a74ed63a",
   "metadata": {},
   "outputs": [
    {
     "name": "stdout",
     "output_type": "stream",
     "text": [
      "black  is my favorite color\n"
     ]
    }
   ],
   "source": [
    "txt = str.strip()\n",
    "\n",
    "print( 'black ',str,'my favorite color')"
   ]
  },
  {
   "cell_type": "markdown",
   "id": "0b23aab9-9133-4792-bb50-6ff494490e96",
   "metadata": {},
   "source": [
    "# swapcase()"
   ]
  },
  {
   "cell_type": "code",
   "execution_count": 399,
   "id": "9471dcd6-75b3-4d4e-bc3e-96922bb92205",
   "metadata": {},
   "outputs": [
    {
     "name": "stdout",
     "output_type": "stream",
     "text": [
      " Hello my name is Rocky\n"
     ]
    }
   ],
   "source": [
    "str = \" Hello my name is Rocky\"\n",
    "print(str)"
   ]
  },
  {
   "cell_type": "code",
   "execution_count": 401,
   "id": "438e5987-889a-410b-821d-837935381bfa",
   "metadata": {},
   "outputs": [
    {
     "name": "stdout",
     "output_type": "stream",
     "text": [
      " hELLO MY NAME IS rOCKY\n"
     ]
    }
   ],
   "source": [
    "print(f'{str}'.swapcase())"
   ]
  },
  {
   "cell_type": "markdown",
   "id": "135819a2-ff56-469d-a0c5-a07743652c0b",
   "metadata": {},
   "source": [
    "# title()"
   ]
  },
  {
   "cell_type": "code",
   "execution_count": 404,
   "id": "63a8de8a-77d2-444f-b12b-9e708a62c734",
   "metadata": {},
   "outputs": [
    {
     "name": "stdout",
     "output_type": "stream",
     "text": [
      " welcome to mumbai\n"
     ]
    }
   ],
   "source": [
    "str = \" welcome to mumbai\"\n",
    "print(str)"
   ]
  },
  {
   "cell_type": "code",
   "execution_count": 410,
   "id": "6e6d15f3-fb91-4e49-9836-7c6b64f22d42",
   "metadata": {},
   "outputs": [
    {
     "name": "stdout",
     "output_type": "stream",
     "text": [
      " Welcome To Mumbai\n"
     ]
    }
   ],
   "source": [
    "print(f'{str}'.title())"
   ]
  },
  {
   "cell_type": "markdown",
   "id": "a8d44b02-0004-423f-bd39-abe5729d7c21",
   "metadata": {},
   "source": [
    "# translate()"
   ]
  },
  {
   "cell_type": "code",
   "execution_count": 477,
   "id": "2a1ca7a5-c187-4ef0-8c55-4409b84fba8b",
   "metadata": {},
   "outputs": [
    {
     "name": "stdout",
     "output_type": "stream",
     "text": [
      " Welcome to India\n"
     ]
    }
   ],
   "source": [
    "str = {83 : 80}\n",
    "txt = ' Welcome to India'\n",
    "print(txt.translate(str))"
   ]
  },
  {
   "cell_type": "markdown",
   "id": "a1b5dc08-11f7-418e-873c-6717059b4c5b",
   "metadata": {},
   "source": [
    "# upper()"
   ]
  },
  {
   "cell_type": "code",
   "execution_count": 414,
   "id": "b72be360-9199-4d85-b2ae-209719cebd55",
   "metadata": {},
   "outputs": [
    {
     "name": "stdout",
     "output_type": "stream",
     "text": [
      " hey siri\n"
     ]
    }
   ],
   "source": [
    "str = \" hey siri\"\n",
    "print(str)"
   ]
  },
  {
   "cell_type": "code",
   "execution_count": 416,
   "id": "2c60d8eb-2b39-4619-9d8b-303c2d525de9",
   "metadata": {},
   "outputs": [
    {
     "name": "stdout",
     "output_type": "stream",
     "text": [
      " HEY SIRI\n"
     ]
    }
   ],
   "source": [
    "print(f'{str}'.upper())"
   ]
  },
  {
   "cell_type": "markdown",
   "id": "50e06b88-4ff4-4bd0-afb5-bd9ecd91db2d",
   "metadata": {},
   "source": [
    "# zfill()"
   ]
  },
  {
   "cell_type": "code",
   "execution_count": 420,
   "id": "85a0cc31-e9d4-4c5c-8694-c0defd888775",
   "metadata": {},
   "outputs": [
    {
     "name": "stdout",
     "output_type": "stream",
     "text": [
      "40\n"
     ]
    }
   ],
   "source": [
    "str = \"40\"\n",
    "print(str)"
   ]
  },
  {
   "cell_type": "code",
   "execution_count": 424,
   "id": "3f943c10-8e24-4e5e-9613-60b7328c7de9",
   "metadata": {},
   "outputs": [
    {
     "name": "stdout",
     "output_type": "stream",
     "text": [
      "00000000000000000040\n"
     ]
    }
   ],
   "source": [
    "print(f'{str}'.zfill(20))"
   ]
  },
  {
   "cell_type": "code",
   "execution_count": null,
   "id": "882066f8-9b5f-4dc6-a7ce-1f1aaf8e5bd3",
   "metadata": {},
   "outputs": [],
   "source": []
  }
 ],
 "metadata": {
  "kernelspec": {
   "display_name": "Python 3 (ipykernel)",
   "language": "python",
   "name": "python3"
  },
  "language_info": {
   "codemirror_mode": {
    "name": "ipython",
    "version": 3
   },
   "file_extension": ".py",
   "mimetype": "text/x-python",
   "name": "python",
   "nbconvert_exporter": "python",
   "pygments_lexer": "ipython3",
   "version": "3.11.7"
  }
 },
 "nbformat": 4,
 "nbformat_minor": 5
}
